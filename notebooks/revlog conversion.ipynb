{
 "cells": [
  {
   "cell_type": "markdown",
   "metadata": {},
   "source": [
    "# Notebook to convert raw revision log to CSV formatted event table"
   ]
  },
  {
   "cell_type": "code",
   "execution_count": null,
   "metadata": {
    "collapsed": true
   },
   "outputs": [],
   "source": [
    "# git log --date=iso --pretty=format:\"%at%x09%ad%x09%H%x09%an%x09%ae%x09%s\" --stat --no-merges > raw.revlog"
   ]
  },
  {
   "cell_type": "code",
   "execution_count": null,
   "metadata": {
    "collapsed": true
   },
   "outputs": [],
   "source": [
    "raw_revlog_filename = 'raw.revlog'"
   ]
  },
  {
   "cell_type": "code",
   "execution_count": 82,
   "metadata": {
    "collapsed": false
   },
   "outputs": [],
   "source": [
    "grouped_lines = []\n",
    "\n",
    "with open(raw_revlog_filename) as f:\n",
    "    group = []\n",
    "    for line in f:\n",
    "        if line == '\\n':\n",
    "            grouped_lines.append(group)\n",
    "            group = []\n",
    "        else:\n",
    "            group.append(line.strip())"
   ]
  },
  {
   "cell_type": "code",
   "execution_count": 122,
   "metadata": {
    "collapsed": true
   },
   "outputs": [],
   "source": [
    "import re\n",
    "\n",
    "def file_stats_from(description):\n",
    "    match = re.search('(.*) +\\| +(\\d+) +(.*)', description, re.IGNORECASE)\n",
    "    filename = match.group(1)\n",
    "    n_lines_changed = int(match.group(2))\n",
    "    changes = match.group(3)\n",
    "    n_add = int(1.0 * n_lines_changed * changes.count('+') / len(changes))\n",
    "    n_del = int(1.0 * n_lines_changed * changes.count('-') / len(changes))\n",
    "    return [filename.strip(), str(n_add), str(n_del)]\n"
   ]
  },
  {
   "cell_type": "code",
   "execution_count": 123,
   "metadata": {
    "collapsed": false
   },
   "outputs": [],
   "source": [
    "import re\n",
    "\n",
    "timestamps = []\n",
    "commit_dates = []\n",
    "hashes = []\n",
    "names = []\n",
    "emails = []\n",
    "subjs = []\n",
    "filenames = []\n",
    "n_adds = []\n",
    "n_dels = []\n",
    "\n",
    "for group in grouped_lines:\n",
    "    tsv, remaining = group[0].split(\"\\t\"), group[1:]\n",
    "    ts_author, commit_date_iso, commit_hash, author_name, author_email, subj = tsv[0], tsv[1], tsv[2], tsv[3], tsv[4], tsv[5]\n",
    "    file_changes = [r for r in remaining if not ('(-)' in r or '(+)' in r)]\n",
    "    details = [file_stats_from(changes) for changes in file_changes]\n",
    "\n",
    "    for detail in details:\n",
    "        timestamps.append(ts_author)\n",
    "        commit_dates.append(commit_date_iso)\n",
    "        hashes.append(commit_hash)\n",
    "        names.append(author_name)\n",
    "        emails.append(author_email)\n",
    "        subjs.append(subj)\n",
    "        filenames.append(detail[0])\n",
    "        n_adds.append(detail[1])\n",
    "        n_dels.append(detail[2])\n"
   ]
  },
  {
   "cell_type": "code",
   "execution_count": 129,
   "metadata": {
    "collapsed": false
   },
   "outputs": [
    {
     "data": {
      "text/html": [
       "<div>\n",
       "<table border=\"1\" class=\"dataframe\">\n",
       "  <thead>\n",
       "    <tr style=\"text-align: right;\">\n",
       "      <th></th>\n",
       "      <th>author_email</th>\n",
       "      <th>author_name</th>\n",
       "      <th>author_timestamp</th>\n",
       "      <th>commit_hash</th>\n",
       "      <th>commit_utc_offset_hours</th>\n",
       "      <th>filename</th>\n",
       "      <th>n_additions</th>\n",
       "      <th>n_deletions</th>\n",
       "      <th>subject</th>\n",
       "    </tr>\n",
       "  </thead>\n",
       "  <tbody>\n",
       "    <tr>\n",
       "      <th>0</th>\n",
       "      <td>zhongjiang@huawei.com</td>\n",
       "      <td>zhong jiang</td>\n",
       "      <td>1487807211</td>\n",
       "      <td>f201ebd87652cf1519792f8662bb3f862c76aa33</td>\n",
       "      <td>-8</td>\n",
       "      <td>mm/z3fold.c</td>\n",
       "      <td>7</td>\n",
       "      <td>3</td>\n",
       "      <td>mm/z3fold.c: limit first_num to the actual ran...</td>\n",
       "    </tr>\n",
       "    <tr>\n",
       "      <th>1</th>\n",
       "      <td>rdunlap@infradead.org</td>\n",
       "      <td>Randy Dunlap</td>\n",
       "      <td>1487807208</td>\n",
       "      <td>083fb8edda0487d192e8c117f625563b920cf7a4</td>\n",
       "      <td>-8</td>\n",
       "      <td>include/linux/pagemap.h</td>\n",
       "      <td>0</td>\n",
       "      <td>1</td>\n",
       "      <td>mm: fix &lt;linux/pagemap.h&gt; stray kernel-doc not...</td>\n",
       "    </tr>\n",
       "    <tr>\n",
       "      <th>2</th>\n",
       "      <td>sergey.senozhatsky.work@gmail.com</td>\n",
       "      <td>Sergey Senozhatsky</td>\n",
       "      <td>1487807205</td>\n",
       "      <td>c87d1655c29500b459fb135258a93f8309ada9c7</td>\n",
       "      <td>-8</td>\n",
       "      <td>Documentation/ABI/obsolete/sysfs-block-zram</td>\n",
       "      <td>0</td>\n",
       "      <td>119</td>\n",
       "      <td>zram: remove obsolete sysfs attrs</td>\n",
       "    </tr>\n",
       "    <tr>\n",
       "      <th>3</th>\n",
       "      <td>sergey.senozhatsky.work@gmail.com</td>\n",
       "      <td>Sergey Senozhatsky</td>\n",
       "      <td>1487807205</td>\n",
       "      <td>c87d1655c29500b459fb135258a93f8309ada9c7</td>\n",
       "      <td>-8</td>\n",
       "      <td>Documentation/ABI/testing/sysfs-block-zram</td>\n",
       "      <td>8</td>\n",
       "      <td>92</td>\n",
       "      <td>zram: remove obsolete sysfs attrs</td>\n",
       "    </tr>\n",
       "    <tr>\n",
       "      <th>4</th>\n",
       "      <td>sergey.senozhatsky.work@gmail.com</td>\n",
       "      <td>Sergey Senozhatsky</td>\n",
       "      <td>1487807205</td>\n",
       "      <td>c87d1655c29500b459fb135258a93f8309ada9c7</td>\n",
       "      <td>-8</td>\n",
       "      <td>Documentation/blockdev/zram.txt</td>\n",
       "      <td>34</td>\n",
       "      <td>39</td>\n",
       "      <td>zram: remove obsolete sysfs attrs</td>\n",
       "    </tr>\n",
       "  </tbody>\n",
       "</table>\n",
       "</div>"
      ],
      "text/plain": [
       "                        author_email         author_name  author_timestamp  \\\n",
       "0              zhongjiang@huawei.com         zhong jiang        1487807211   \n",
       "1              rdunlap@infradead.org        Randy Dunlap        1487807208   \n",
       "2  sergey.senozhatsky.work@gmail.com  Sergey Senozhatsky        1487807205   \n",
       "3  sergey.senozhatsky.work@gmail.com  Sergey Senozhatsky        1487807205   \n",
       "4  sergey.senozhatsky.work@gmail.com  Sergey Senozhatsky        1487807205   \n",
       "\n",
       "                                commit_hash  commit_utc_offset_hours  \\\n",
       "0  f201ebd87652cf1519792f8662bb3f862c76aa33                       -8   \n",
       "1  083fb8edda0487d192e8c117f625563b920cf7a4                       -8   \n",
       "2  c87d1655c29500b459fb135258a93f8309ada9c7                       -8   \n",
       "3  c87d1655c29500b459fb135258a93f8309ada9c7                       -8   \n",
       "4  c87d1655c29500b459fb135258a93f8309ada9c7                       -8   \n",
       "\n",
       "                                      filename  n_additions  n_deletions  \\\n",
       "0                                  mm/z3fold.c            7            3   \n",
       "1                      include/linux/pagemap.h            0            1   \n",
       "2  Documentation/ABI/obsolete/sysfs-block-zram            0          119   \n",
       "3   Documentation/ABI/testing/sysfs-block-zram            8           92   \n",
       "4              Documentation/blockdev/zram.txt           34           39   \n",
       "\n",
       "                                             subject  \n",
       "0  mm/z3fold.c: limit first_num to the actual ran...  \n",
       "1  mm: fix <linux/pagemap.h> stray kernel-doc not...  \n",
       "2                  zram: remove obsolete sysfs attrs  \n",
       "3                  zram: remove obsolete sysfs attrs  \n",
       "4                  zram: remove obsolete sysfs attrs  "
      ]
     },
     "execution_count": 129,
     "metadata": {},
     "output_type": "execute_result"
    }
   ],
   "source": [
    "import pandas as pd\n",
    "import dateutil.parser\n",
    "def tz_from(date_str):\n",
    "    d = dateutil.parser.parse(date_str)\n",
    "    hours_from_utc = d.tzinfo.utcoffset(d).total_seconds() / 3600.0\n",
    "    return int(hours_from_utc)\n",
    "\n",
    "df = pd.DataFrame(\n",
    "    {\n",
    "        'author_timestamp': map(lambda e: long(e), timestamps),\n",
    "        'commit_utc_offset_hours': map(tz_from, commit_dates),\n",
    "        'commit_hash': hashes,\n",
    "        'author_name': names,\n",
    "        'author_email': emails,\n",
    "        'subject': subjs,\n",
    "        'filename': filenames,\n",
    "        'n_additions': map(lambda e: int(e), n_adds),\n",
    "        'n_deletions': map(lambda e: int(e), n_dels)\n",
    "    }\n",
    ")\n",
    "\n",
    "df.head()"
   ]
  },
  {
   "cell_type": "code",
   "execution_count": 125,
   "metadata": {
    "collapsed": false
   },
   "outputs": [
    {
     "name": "stdout",
     "output_type": "stream",
     "text": [
      "<class 'pandas.core.frame.DataFrame'>\n",
      "RangeIndex: 47 entries, 0 to 46\n",
      "Data columns (total 9 columns):\n",
      "author_email               47 non-null object\n",
      "author_name                47 non-null object\n",
      "author_timestamp           47 non-null int64\n",
      "commit_hash                47 non-null object\n",
      "commit_utc_offset_hours    47 non-null int64\n",
      "filename                   47 non-null object\n",
      "n_additions                47 non-null int64\n",
      "n_deletions                47 non-null int64\n",
      "subject                    47 non-null object\n",
      "dtypes: int64(4), object(5)\n",
      "memory usage: 3.4+ KB\n"
     ]
    }
   ],
   "source": [
    "df.info()"
   ]
  },
  {
   "cell_type": "code",
   "execution_count": 130,
   "metadata": {
    "collapsed": false
   },
   "outputs": [
    {
     "data": {
      "text/html": [
       "<div>\n",
       "<table border=\"1\" class=\"dataframe\">\n",
       "  <thead>\n",
       "    <tr style=\"text-align: right;\">\n",
       "      <th></th>\n",
       "      <th>author_timestamp</th>\n",
       "      <th>commit_hash</th>\n",
       "      <th>commit_utc_offset_hours</th>\n",
       "      <th>filename</th>\n",
       "      <th>n_additions</th>\n",
       "      <th>n_deletions</th>\n",
       "      <th>subject</th>\n",
       "      <th>author_id</th>\n",
       "    </tr>\n",
       "  </thead>\n",
       "  <tbody>\n",
       "    <tr>\n",
       "      <th>0</th>\n",
       "      <td>1487807211</td>\n",
       "      <td>f201ebd87652cf1519792f8662bb3f862c76aa33</td>\n",
       "      <td>-8</td>\n",
       "      <td>mm/z3fold.c</td>\n",
       "      <td>7</td>\n",
       "      <td>3</td>\n",
       "      <td>mm/z3fold.c: limit first_num to the actual ran...</td>\n",
       "      <td>0</td>\n",
       "    </tr>\n",
       "    <tr>\n",
       "      <th>1</th>\n",
       "      <td>1487807208</td>\n",
       "      <td>083fb8edda0487d192e8c117f625563b920cf7a4</td>\n",
       "      <td>-8</td>\n",
       "      <td>include/linux/pagemap.h</td>\n",
       "      <td>0</td>\n",
       "      <td>1</td>\n",
       "      <td>mm: fix &lt;linux/pagemap.h&gt; stray kernel-doc not...</td>\n",
       "      <td>1</td>\n",
       "    </tr>\n",
       "    <tr>\n",
       "      <th>2</th>\n",
       "      <td>1487807205</td>\n",
       "      <td>c87d1655c29500b459fb135258a93f8309ada9c7</td>\n",
       "      <td>-8</td>\n",
       "      <td>Documentation/ABI/obsolete/sysfs-block-zram</td>\n",
       "      <td>0</td>\n",
       "      <td>119</td>\n",
       "      <td>zram: remove obsolete sysfs attrs</td>\n",
       "      <td>2</td>\n",
       "    </tr>\n",
       "    <tr>\n",
       "      <th>3</th>\n",
       "      <td>1487807205</td>\n",
       "      <td>c87d1655c29500b459fb135258a93f8309ada9c7</td>\n",
       "      <td>-8</td>\n",
       "      <td>Documentation/ABI/testing/sysfs-block-zram</td>\n",
       "      <td>8</td>\n",
       "      <td>92</td>\n",
       "      <td>zram: remove obsolete sysfs attrs</td>\n",
       "      <td>2</td>\n",
       "    </tr>\n",
       "    <tr>\n",
       "      <th>4</th>\n",
       "      <td>1487807205</td>\n",
       "      <td>c87d1655c29500b459fb135258a93f8309ada9c7</td>\n",
       "      <td>-8</td>\n",
       "      <td>Documentation/blockdev/zram.txt</td>\n",
       "      <td>34</td>\n",
       "      <td>39</td>\n",
       "      <td>zram: remove obsolete sysfs attrs</td>\n",
       "      <td>2</td>\n",
       "    </tr>\n",
       "  </tbody>\n",
       "</table>\n",
       "</div>"
      ],
      "text/plain": [
       "   author_timestamp                               commit_hash  \\\n",
       "0        1487807211  f201ebd87652cf1519792f8662bb3f862c76aa33   \n",
       "1        1487807208  083fb8edda0487d192e8c117f625563b920cf7a4   \n",
       "2        1487807205  c87d1655c29500b459fb135258a93f8309ada9c7   \n",
       "3        1487807205  c87d1655c29500b459fb135258a93f8309ada9c7   \n",
       "4        1487807205  c87d1655c29500b459fb135258a93f8309ada9c7   \n",
       "\n",
       "   commit_utc_offset_hours                                     filename  \\\n",
       "0                       -8                                  mm/z3fold.c   \n",
       "1                       -8                      include/linux/pagemap.h   \n",
       "2                       -8  Documentation/ABI/obsolete/sysfs-block-zram   \n",
       "3                       -8   Documentation/ABI/testing/sysfs-block-zram   \n",
       "4                       -8              Documentation/blockdev/zram.txt   \n",
       "\n",
       "   n_additions  n_deletions  \\\n",
       "0            7            3   \n",
       "1            0            1   \n",
       "2            0          119   \n",
       "3            8           92   \n",
       "4           34           39   \n",
       "\n",
       "                                             subject  author_id  \n",
       "0  mm/z3fold.c: limit first_num to the actual ran...          0  \n",
       "1  mm: fix <linux/pagemap.h> stray kernel-doc not...          1  \n",
       "2                  zram: remove obsolete sysfs attrs          2  \n",
       "3                  zram: remove obsolete sysfs attrs          2  \n",
       "4                  zram: remove obsolete sysfs attrs          2  "
      ]
     },
     "execution_count": 130,
     "metadata": {},
     "output_type": "execute_result"
    }
   ],
   "source": [
    "# unique identifiers for our author mapping\n",
    "unique_author_ids = df.apply(lambda row: row['author_name'] + ' ' + row['author_email'], axis=1).unique()\n",
    "translation = {author_id: index for index, author_id in enumerate(unique_author_ids)}\n",
    "df['author_id'] = df.apply(lambda row: translation[row['author_name'] + ' ' + row['author_email']], axis=1)\n",
    "df.drop('author_email', axis=1, inplace=True)\n",
    "df.drop('author_name', axis=1, inplace=True)\n",
    "df.head()\n"
   ]
  },
  {
   "cell_type": "code",
   "execution_count": 127,
   "metadata": {
    "collapsed": true
   },
   "outputs": [],
   "source": [
    "df.to_csv('kaggle_linux_kernel_git_revlog.csv', index=False)"
   ]
  },
  {
   "cell_type": "code",
   "execution_count": null,
   "metadata": {
    "collapsed": true
   },
   "outputs": [],
   "source": []
  }
 ],
 "metadata": {
  "anaconda-cloud": {},
  "kernelspec": {
   "display_name": "Python [Root]",
   "language": "python",
   "name": "Python [Root]"
  },
  "language_info": {
   "codemirror_mode": {
    "name": "ipython",
    "version": 2
   },
   "file_extension": ".py",
   "mimetype": "text/x-python",
   "name": "python",
   "nbconvert_exporter": "python",
   "pygments_lexer": "ipython2",
   "version": "2.7.12"
  }
 },
 "nbformat": 4,
 "nbformat_minor": 0
}
